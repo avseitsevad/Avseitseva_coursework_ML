{
 "cells": [
  {
   "cell_type": "markdown",
   "id": "91be946c",
   "metadata": {},
   "source": [
    "## 1. Выбор и описание датасета\n",
    "\n",
    "На данном этапе производится загрузка датасета и его описание, а также постановка решаемой задачи."
   ]
  },
  {
   "cell_type": "markdown",
   "id": "cf2686f6",
   "metadata": {},
   "source": [
    "Для выполнения работы был выбран датасет RuSentiment — это корпус сообщений из социальной сети «ВКонтакте», размеченных вручную по эмоциональной тональности. Датасет широко используется для обучения и оценки моделей в задачах анализa тональности текста на русском языке.\n",
    "Изначально датасет включает следующие метки:\n",
    "\n",
    "- `positive` — положительная оценка или настроение;\n",
    "- `neutral` — нейтральное сообщение;\n",
    "- `negative` — негативная оценка или настроение;\n",
    "- `speech` — речевые акты (поздравления, благодарности);\n",
    "- `skip` — пропущенные, неанализируемые или неуместные сообщения.\n",
    "\n",
    "В данной работе используются только три основные метки, поскольку они соответствуют постановке задачи классификации по эмоциональной окраске текста. Задача — разработать и сравнить модели машинного обучения для многоклассовой классификации сообщений по тональности. \n",
    "Используемые метки:\n",
    "\n",
    "- `positive`,\n",
    "- `neutral`,\n",
    "- `negative`."
   ]
  },
  {
   "cell_type": "code",
   "execution_count": 29,
   "id": "680afba5",
   "metadata": {},
   "outputs": [
    {
     "data": {
      "text/html": [
       "<div>\n",
       "<style scoped>\n",
       "    .dataframe tbody tr th:only-of-type {\n",
       "        vertical-align: middle;\n",
       "    }\n",
       "\n",
       "    .dataframe tbody tr th {\n",
       "        vertical-align: top;\n",
       "    }\n",
       "\n",
       "    .dataframe thead th {\n",
       "        text-align: right;\n",
       "    }\n",
       "</style>\n",
       "<table border=\"1\" class=\"dataframe\">\n",
       "  <thead>\n",
       "    <tr style=\"text-align: right;\">\n",
       "      <th></th>\n",
       "      <th>label</th>\n",
       "      <th>text</th>\n",
       "    </tr>\n",
       "  </thead>\n",
       "  <tbody>\n",
       "    <tr>\n",
       "      <th>0</th>\n",
       "      <td>negative</td>\n",
       "      <td>А попа подозревала давно,что ты с кавказа..пер...</td>\n",
       "    </tr>\n",
       "    <tr>\n",
       "      <th>1</th>\n",
       "      <td>speech</td>\n",
       "      <td>З прошедшим Днем Ангела))))))))</td>\n",
       "    </tr>\n",
       "    <tr>\n",
       "      <th>2</th>\n",
       "      <td>skip</td>\n",
       "      <td>Два дня до отлёта с острова!!!!!!!</td>\n",
       "    </tr>\n",
       "    <tr>\n",
       "      <th>3</th>\n",
       "      <td>negative</td>\n",
       "      <td>Блин, почему эта жизнь столь не справедлива ((((</td>\n",
       "    </tr>\n",
       "    <tr>\n",
       "      <th>4</th>\n",
       "      <td>skip</td>\n",
       "      <td>где еще встречать свой день рождения как не на...</td>\n",
       "    </tr>\n",
       "    <tr>\n",
       "      <th>5</th>\n",
       "      <td>neutral</td>\n",
       "      <td>Решите уравнение мужских дел для жизни :\\nДомо...</td>\n",
       "    </tr>\n",
       "    <tr>\n",
       "      <th>6</th>\n",
       "      <td>positive</td>\n",
       "      <td>патамушта я крутая баба! ееее!!</td>\n",
       "    </tr>\n",
       "    <tr>\n",
       "      <th>7</th>\n",
       "      <td>neutral</td>\n",
       "      <td>Просто пост :)</td>\n",
       "    </tr>\n",
       "    <tr>\n",
       "      <th>8</th>\n",
       "      <td>positive</td>\n",
       "      <td>урря!я дождался этой овцыы)</td>\n",
       "    </tr>\n",
       "    <tr>\n",
       "      <th>9</th>\n",
       "      <td>speech</td>\n",
       "      <td>С Днем Рождения желаю много счастья, любви и у...</td>\n",
       "    </tr>\n",
       "  </tbody>\n",
       "</table>\n",
       "</div>"
      ],
      "text/plain": [
       "      label                                               text\n",
       "0  negative  А попа подозревала давно,что ты с кавказа..пер...\n",
       "1    speech                    З прошедшим Днем Ангела))))))))\n",
       "2      skip                 Два дня до отлёта с острова!!!!!!!\n",
       "3  negative   Блин, почему эта жизнь столь не справедлива ((((\n",
       "4      skip  где еще встречать свой день рождения как не на...\n",
       "5   neutral  Решите уравнение мужских дел для жизни :\\nДомо...\n",
       "6  positive                    патамушта я крутая баба! ееее!!\n",
       "7   neutral                                     Просто пост :)\n",
       "8  positive                        урря!я дождался этой овцыы)\n",
       "9    speech  С Днем Рождения желаю много счастья, любви и у..."
      ]
     },
     "execution_count": 29,
     "metadata": {},
     "output_type": "execute_result"
    }
   ],
   "source": [
    "import pandas as pd\n",
    "\n",
    "# Загрузка датасета\n",
    "df = pd.read_csv('data/rusentiment_random_posts.csv')\n",
    "\n",
    "# Предварительный просмотр\n",
    "df.head(10)"
   ]
  },
  {
   "cell_type": "markdown",
   "id": "80a535a8",
   "metadata": {},
   "source": [
    "# 2. Предварительный анализ и очистка данных\n",
    "\n",
    "Проверка датасета на наличие пропущенных значений и дублирующихся записей, а также отбор целевых меток. Из анализа исключаются сообщения, не содержащие текст или размеченные как нерелевантные (`speech`, `skip`).\n",
    "\n",
    "Также оценивается распределение классов."
   ]
  },
  {
   "cell_type": "markdown",
   "id": "9a84ad8d",
   "metadata": {},
   "source": [
    "### 2.1 Количественные характеристики и структура данных"
   ]
  },
  {
   "cell_type": "code",
   "execution_count": 30,
   "id": "97e7bd21",
   "metadata": {},
   "outputs": [
    {
     "name": "stdout",
     "output_type": "stream",
     "text": [
      "Общее количество записей: 21268\n",
      "Число уникальных классов: 5\n",
      "\n",
      "Распределение классов:\n",
      "label\n",
      "neutral     8323\n",
      "positive    4635\n",
      "skip        3190\n",
      "speech      2826\n",
      "negative    2294\n",
      "Name: count, dtype: int64\n"
     ]
    }
   ],
   "source": [
    "# Количественные характеристики\n",
    "print(\"Общее количество записей:\", len(df))\n",
    "print(\"Число уникальных классов:\", df['label'].nunique())\n",
    "print(\"\\nРаспределение классов:\")\n",
    "print(df['label'].value_counts())"
   ]
  },
  {
   "cell_type": "markdown",
   "id": "1c0ebc71",
   "metadata": {},
   "source": [
    "`text` — входной признак, `label` — целевая переменная для обучения модели."
   ]
  },
  {
   "cell_type": "markdown",
   "id": "320fd3ca",
   "metadata": {},
   "source": [
    "### 2.2 Проверка и очистка данных"
   ]
  },
  {
   "cell_type": "code",
   "execution_count": 31,
   "id": "bec53201",
   "metadata": {},
   "outputs": [
    {
     "name": "stdout",
     "output_type": "stream",
     "text": [
      "Пропущенные значения: 0\n",
      "Дубликатов: 35\n",
      "Размерность после очистки: (15217, 2)\n"
     ]
    }
   ],
   "source": [
    "# Удаление нерелевантных меток\n",
    "df = df[df['label'].isin(['positive', 'neutral', 'negative'])]\n",
    "\n",
    "# Проверка пропущенных значений и дубликатов\n",
    "print(\"Пропущенные значения:\", df['text'].isnull().sum())\n",
    "print(\"Дубликатов:\", df.duplicated().sum())\n",
    "\n",
    "# Удаление пропусков и дубликатов\n",
    "df.dropna(subset=['text'], inplace=True)\n",
    "df.drop_duplicates(inplace=True)\n",
    "\n",
    "print(\"Размерность после очистки:\", df.shape)"
   ]
  },
  {
   "cell_type": "markdown",
   "id": "bef0ad9d",
   "metadata": {},
   "source": [
    "### 2.3 Анализ распределения классов"
   ]
  },
  {
   "cell_type": "code",
   "execution_count": 32,
   "id": "855468b7",
   "metadata": {},
   "outputs": [
    {
     "data": {
      "image/png": "[encoded data removed]",
      "text/plain": [
       "<Figure size 800x500 with 1 Axes>"
      ]
     },
     "metadata": {},
     "output_type": "display_data"
    }
   ],
   "source": [
    "import matplotlib.pyplot as plt\n",
    "import seaborn as sns\n",
    "\n",
    "sns.set_theme(style='whitegrid')\n",
    "custom_palette = {\n",
    "    'positive': \"#B6E086\", \n",
    "    'neutral':  '#BDBDBD', \n",
    "    'negative': '#EF9A9A' \n",
    "}\n",
    "\n",
    "# Построение диаграммы распределения\n",
    "plt.figure(figsize=(8, 5))\n",
    "sns.countplot(\n",
    "    data=df,\n",
    "    x='label',\n",
    "    hue='label',\n",
    "    order=['positive', 'neutral', 'negative'],\n",
    "    palette=custom_palette,\n",
    "    legend=False\n",
    ")\n",
    "plt.title('Распределение классов в очищенном датасете')\n",
    "plt.xlabel('Класс тональности')\n",
    "plt.ylabel('Количество сообщений')\n",
    "plt.show()"
   ]
  },
  {
   "cell_type": "code",
   "execution_count": 33,
   "id": "364c14e1",
   "metadata": {},
   "outputs": [
    {
     "name": "stdout",
     "output_type": "stream",
     "text": [
      "Распределение классов:\n"
     ]
    },
    {
     "data": {
      "text/html": [
       "<div>\n",
       "<style scoped>\n",
       "    .dataframe tbody tr th:only-of-type {\n",
       "        vertical-align: middle;\n",
       "    }\n",
       "\n",
       "    .dataframe tbody tr th {\n",
       "        vertical-align: top;\n",
       "    }\n",
       "\n",
       "    .dataframe thead th {\n",
       "        text-align: right;\n",
       "    }\n",
       "</style>\n",
       "<table border=\"1\" class=\"dataframe\">\n",
       "  <thead>\n",
       "    <tr style=\"text-align: right;\">\n",
       "      <th></th>\n",
       "      <th>Количество</th>\n",
       "      <th>Доля (%)</th>\n",
       "    </tr>\n",
       "    <tr>\n",
       "      <th>label</th>\n",
       "      <th></th>\n",
       "      <th></th>\n",
       "    </tr>\n",
       "  </thead>\n",
       "  <tbody>\n",
       "    <tr>\n",
       "      <th>neutral</th>\n",
       "      <td>8291</td>\n",
       "      <td>54.49</td>\n",
       "    </tr>\n",
       "    <tr>\n",
       "      <th>positive</th>\n",
       "      <td>4632</td>\n",
       "      <td>30.44</td>\n",
       "    </tr>\n",
       "    <tr>\n",
       "      <th>negative</th>\n",
       "      <td>2294</td>\n",
       "      <td>15.08</td>\n",
       "    </tr>\n",
       "  </tbody>\n",
       "</table>\n",
       "</div>"
      ],
      "text/plain": [
       "          Количество  Доля (%)\n",
       "label                         \n",
       "neutral         8291     54.49\n",
       "positive        4632     30.44\n",
       "negative        2294     15.08"
      ]
     },
     "metadata": {},
     "output_type": "display_data"
    }
   ],
   "source": [
    "# Вывод процентного распреления классов\n",
    "class_counts = df['label'].value_counts()\n",
    "class_percentages = df['label'].value_counts(normalize=True) * 100\n",
    "\n",
    "class_distribution = pd.DataFrame({\n",
    "    'Количество': class_counts,\n",
    "    'Доля (%)': class_percentages.round(2)\n",
    "})\n",
    "\n",
    "print(\"Распределение классов:\")\n",
    "display(class_distribution)"
   ]
  },
  {
   "cell_type": "markdown",
   "id": "9e1e5214",
   "metadata": {},
   "source": [
    "В результате анализа установлено, что нейтральные сообщения составляют наибольшую долю в выборке. Это может потребовать применения методов балансировки данных на последующих этапах."
   ]
  },
  {
   "cell_type": "markdown",
   "id": "5a1adc18",
   "metadata": {},
   "source": [
    "### 2.4 Кодирование целевой переменной"
   ]
  },
  {
   "cell_type": "code",
   "execution_count": 34,
   "id": "d1ddd5d2",
   "metadata": {},
   "outputs": [
    {
     "name": "stdout",
     "output_type": "stream",
     "text": [
      "Сопоставление меток:\n",
      "negative → 0\n",
      "neutral → 1\n",
      "positive → 2\n"
     ]
    }
   ],
   "source": [
    "from sklearn.preprocessing import LabelEncoder\n",
    "\n",
    "le = LabelEncoder()\n",
    "df['label_encoded'] = le.fit_transform(df['label'])\n",
    "\n",
    "label_map = dict(zip(le.classes_, le.transform(le.classes_)))\n",
    "print(\"Сопоставление меток:\")\n",
    "for label, code in label_map.items():\n",
    "    print(f\"{label} → {code}\")"
   ]
  },
  {
   "cell_type": "markdown",
   "id": "897d10eb",
   "metadata": {},
   "source": [
    "### 2.5 Примеры данных"
   ]
  },
  {
   "cell_type": "code",
   "execution_count": 112,
   "id": "fb1dd64b",
   "metadata": {},
   "outputs": [
    {
     "name": "stdout",
     "output_type": "stream",
     "text": [
      "\n",
      "Примеры POSITIVE:\n",
      "1. есть! есть! есть!\n",
      "2. Это, мать твою, божественно!\n",
      "3. ну как? \n",
      "ахахахаха\n",
      "\n",
      "Примеры NEUTRAL:\n",
      "1. слушать до конца!)\n",
      "2. Золото - не то, что блестит, а\n",
      "то, что бегает, смеётся и\n",
      "переворачивает всё верх\n",
      "дном.\n",
      "3. Димон-покемон:)\n",
      "\n",
      "Примеры NEGATIVE:\n",
      "1. Скорее бы уже все поперебесились с этой политотой. Make love, not poop!\n",
      "2. Т.К. к бандитам и БАНКИ ОТНОСЯТСЯ,то с них и начну!!! РОСБАНК уже практически готов к БАНКРОТСТВУ,остается кто? РОССЕЛЬХОЗБАНК и СБЕРБАНК так? Тогда слушаейте сюда! Если вы кредитные ДОГОВОРА не перепишете по-новой с указанием всех возможностей выплаты кредита (я про то,что БАНКИ сами могут ДОЛГИ СПИСАТЬ с должника или выдать новый график гашения только основного долга!), то буду вас стравливать с народом,которого ВЫ ОГРАБИЛИ,лишили единственного ЖИЛЬЯ и переписали долги недобросовестных заемщиков на поручителей!!!!!!!!! С любовью к миру,ДОЛАНА\n",
      "3. В нотариальной конторе по адресу Коммунистический пр., 49 работает ТУПОРЫЛАЯ ОВЦА. Опасайтесь люди.\n"
     ]
    }
   ],
   "source": [
    "for label in ['positive', 'neutral', 'negative']:\n",
    "    print(f\"\\nПримеры {label.upper()}:\")\n",
    "    samples = df[df['label'] == label]['text'].dropna().sample(3)\n",
    "    for i, text in enumerate(samples, 1):\n",
    "        print(f\"{i}. {text}\")"
   ]
  },
  {
   "cell_type": "markdown",
   "id": "bc4c2783",
   "metadata": {},
   "source": [
    "# 3. Преобразование признаков (векторизация текста)\n",
    "\n",
    "На данном этапе выполняется предобработка и  последующая векторизация текстов с помощью TF-IDF (Term Frequency–Inverse Document Frequency), которая отражает важность слов относительно каждого документа и всей выборки в целом.\n",
    "\n",
    "TF-IDF позволяет учитывать как частотность слова в конкретном сообщении, так и его редкость по корпусу, что делает модель более устойчивой к часто встречающимся словам и выделяет информативные признаки.\n"
   ]
  },
  {
   "cell_type": "markdown",
   "id": "a5b91a02",
   "metadata": {},
   "source": [
    "### 3.1 Предобработка текста\n",
    "\n",
    "Исходные сообщения содержат пунктуацию, смайлики, хештеги и символы, не несущие полезной смысловой нагрузки. Для повышения качества признаков производится очистка текста:\n",
    "- приведение к нижнему регистру;\n",
    "- удаление пунктуации и неалфавитных символов;\n",
    "- лемматизация слов с использованием библиотеки `pymorphy3`;\n",
    "- удаление стоп-слов (по списку NLTK).\n"
   ]
  },
  {
   "cell_type": "code",
   "execution_count": 36,
   "id": "75776a0d",
   "metadata": {},
   "outputs": [
    {
     "name": "stderr",
     "output_type": "stream",
     "text": [
      "[nltk_data] Downloading package punkt to data/nltk...\n",
      "[nltk_data]   Package punkt is already up-to-date!\n",
      "[nltk_data] Downloading package punkt_tab to data/nltk...\n",
      "[nltk_data]   Package punkt_tab is already up-to-date!\n",
      "[nltk_data] Downloading package stopwords to data/nltk...\n",
      "[nltk_data]   Package stopwords is already up-to-date!\n"
     ]
    }
   ],
   "source": [
    "import re\n",
    "import pymorphy3\n",
    "import nltk\n",
    "from nltk.corpus import stopwords\n",
    "from nltk.tokenize import word_tokenize\n",
    "\n",
    "nltk_data_path = \"data/nltk\"\n",
    "nltk.data.path.append(nltk_data_path)\n",
    "nltk.download('punkt', download_dir=nltk_data_path)\n",
    "nltk.download('punkt_tab', download_dir=nltk_data_path)\n",
    "nltk.download('stopwords', download_dir=nltk_data_path)\n",
    "\n",
    "morph = pymorphy3.MorphAnalyzer()\n",
    "stop_words = set(stopwords.words(\"russian\"))\n",
    "punctuation = r\"[^\\w\\s]\""
   ]
  },
  {
   "cell_type": "code",
   "execution_count": 37,
   "id": "730305f8",
   "metadata": {},
   "outputs": [],
   "source": [
    "def preprocess_text(text):\n",
    "    # Приведение к нижнему регистру\n",
    "    text = text.lower()\n",
    "\n",
    "    # Удаление пунктуации и лишних символов\n",
    "    text = re.sub(punctuation, ' ', text)\n",
    "    text = re.sub(r'\\s+', ' ', text).strip()\n",
    "\n",
    "    # Токенизация\n",
    "    tokens = word_tokenize(text)\n",
    "\n",
    "    # Лемматизация + фильтрация стоп-слов\n",
    "    lemmas = [\n",
    "        morph.parse(token)[0].normal_form\n",
    "        for token in tokens\n",
    "        if token not in stop_words and token.isalpha()\n",
    "    ]\n",
    "\n",
    "    return ' '.join(lemmas)\n"
   ]
  },
  {
   "cell_type": "code",
   "execution_count": 109,
   "id": "074d8216",
   "metadata": {},
   "outputs": [
    {
     "data": {
      "text/html": [
       "<div>\n",
       "<style scoped>\n",
       "    .dataframe tbody tr th:only-of-type {\n",
       "        vertical-align: middle;\n",
       "    }\n",
       "\n",
       "    .dataframe tbody tr th {\n",
       "        vertical-align: top;\n",
       "    }\n",
       "\n",
       "    .dataframe thead th {\n",
       "        text-align: right;\n",
       "    }\n",
       "</style>\n",
       "<table border=\"1\" class=\"dataframe\">\n",
       "  <thead>\n",
       "    <tr style=\"text-align: right;\">\n",
       "      <th></th>\n",
       "      <th>text</th>\n",
       "      <th>text_preprocessed</th>\n",
       "    </tr>\n",
       "  </thead>\n",
       "  <tbody>\n",
       "    <tr>\n",
       "      <th>0</th>\n",
       "      <td>А попа подозревала давно,что ты с кавказа..пер...</td>\n",
       "      <td>поп подозревать давно кавказ перестать общатьс...</td>\n",
       "    </tr>\n",
       "    <tr>\n",
       "      <th>3</th>\n",
       "      <td>Блин, почему эта жизнь столь не справедлива ((((</td>\n",
       "      <td>блин почему этот жизнь столь справедливый</td>\n",
       "    </tr>\n",
       "    <tr>\n",
       "      <th>5</th>\n",
       "      <td>Решите уравнение мужских дел для жизни :\\nДомо...</td>\n",
       "      <td>решить уравнение мужской дело жизнь дом дерево...</td>\n",
       "    </tr>\n",
       "    <tr>\n",
       "      <th>6</th>\n",
       "      <td>патамушта я крутая баба! ееее!!</td>\n",
       "      <td>патамушт крутой баба ееий</td>\n",
       "    </tr>\n",
       "    <tr>\n",
       "      <th>7</th>\n",
       "      <td>Просто пост :)</td>\n",
       "      <td>просто пост</td>\n",
       "    </tr>\n",
       "    <tr>\n",
       "      <th>8</th>\n",
       "      <td>урря!я дождался этой овцыы)</td>\n",
       "      <td>уррить дождаться овцы</td>\n",
       "    </tr>\n",
       "    <tr>\n",
       "      <th>11</th>\n",
       "      <td>Наша гордость !</td>\n",
       "      <td>наш гордость</td>\n",
       "    </tr>\n",
       "    <tr>\n",
       "      <th>13</th>\n",
       "      <td>Походу, первым кто поздравил меня с 1 апреля -...</td>\n",
       "      <td>поход первый поздравить апрель это ржд мина жд...</td>\n",
       "    </tr>\n",
       "    <tr>\n",
       "      <th>14</th>\n",
       "      <td>познакомил свою девушку с Ксюшей</td>\n",
       "      <td>познакомить девушка ксюша</td>\n",
       "    </tr>\n",
       "    <tr>\n",
       "      <th>18</th>\n",
       "      <td>Тесака арестовали...</td>\n",
       "      <td>тесак арестовать</td>\n",
       "    </tr>\n",
       "  </tbody>\n",
       "</table>\n",
       "</div>"
      ],
      "text/plain": [
       "                                                 text  \\\n",
       "0   А попа подозревала давно,что ты с кавказа..пер...   \n",
       "3    Блин, почему эта жизнь столь не справедлива ((((   \n",
       "5   Решите уравнение мужских дел для жизни :\\nДомо...   \n",
       "6                     патамушта я крутая баба! ееее!!   \n",
       "7                                      Просто пост :)   \n",
       "8                         урря!я дождался этой овцыы)   \n",
       "11                                    Наша гордость !   \n",
       "13  Походу, первым кто поздравил меня с 1 апреля -...   \n",
       "14                   познакомил свою девушку с Ксюшей   \n",
       "18                              Тесака арестовали...    \n",
       "\n",
       "                                    text_preprocessed  \n",
       "0   поп подозревать давно кавказ перестать общатьс...  \n",
       "3           блин почему этот жизнь столь справедливый  \n",
       "5   решить уравнение мужской дело жизнь дом дерево...  \n",
       "6                           патамушт крутой баба ееий  \n",
       "7                                         просто пост  \n",
       "8                               уррить дождаться овцы  \n",
       "11                                       наш гордость  \n",
       "13  поход первый поздравить апрель это ржд мина жд...  \n",
       "14                          познакомить девушка ксюша  \n",
       "18                                   тесак арестовать  "
      ]
     },
     "execution_count": 109,
     "metadata": {},
     "output_type": "execute_result"
    }
   ],
   "source": [
    "df['text_preprocessed'] = df['text'].apply(preprocess_text)\n",
    "df[['text', 'text_preprocessed']].head(10)"
   ]
  },
  {
   "cell_type": "markdown",
   "id": "5b435d5e",
   "metadata": {},
   "source": [
    "### 3.2 Векторизация TF-IDF\n",
    "\n",
    "Для векторизации текстов используется схема TF-IDF с диапазоном `ngram_range=(1, 2)` для учёта как отдельных слов (униграмм), так и устойчивых словосочетаний (биграмм), что особенно актуально в задачах анализа тональности.\n",
    "Ограничение `max_features=10000` введено с целью исключения редких и нерелевантных слов, а также для уменьшения размерности признакового пространства и повышения устойчивости модели."
   ]
  },
  {
   "cell_type": "code",
   "execution_count": 39,
   "id": "5ee7b430",
   "metadata": {},
   "outputs": [
    {
     "name": "stdout",
     "output_type": "stream",
     "text": [
      "Размерность матрицы признаков: (15217, 10000)\n"
     ]
    }
   ],
   "source": [
    "from sklearn.feature_extraction.text import TfidfVectorizer\n",
    "\n",
    "russian_stopwords = stopwords.words(\"russian\")\n",
    "\n",
    "# Векторизация текста\n",
    "vectorizer = TfidfVectorizer(\n",
    "    ngram_range=(1, 2),     # униграммы и биграммы\n",
    "    max_features=10000,     # ограничение на размер словаря\n",
    "    stop_words=russian_stopwords\n",
    ")\n",
    "\n",
    "X = vectorizer.fit_transform(df['text'])\n",
    "y = df['label_encoded']\n",
    "\n",
    "print(f\"Размерность матрицы признаков: {X.shape}\")"
   ]
  },
  {
   "cell_type": "markdown",
   "id": "aa950fce",
   "metadata": {},
   "source": [
    "В данном пункте была продемонстрирована реализация векторизации текста вручную с использованием TF-IDF, как отдельного этапа обработки. Однако при построении полного процесса обучения моделей в рамках сравнения алгоритмов, используется программный конвейер (`Pipeline`) из библиотеки `scikit-learn`, объединяющий этапы преобразования текста и обучения классификатора."
   ]
  },
  {
   "cell_type": "markdown",
   "id": "b028c813",
   "metadata": {},
   "source": [
    "# 4. Описательный анализ признаков\n",
    "\n",
    "Поскольку в данной задаче все входные признаки являются результатом векторизации текста методом TF-IDF, они имеют интервальную шкалу измерения и представляют собой числовые значения в диапазоне от 0 до 1. Каждый признак соответствует частотной характеристике отдельного слова или сочетания слов в тексте, и не обладает фиксированной смысловой интерпретацией.\n",
    "\n",
    "Полноценный описательный анализ, включая проверку нормальности, корреляционный анализ и визуализацию каждого признака, не представляется целесообразным в данной постановке задачи. Это связано с высокой размерностью признакового пространства (10 000 признаков) и тем, что признаки не обладают явным физическим смыслом или шкалой.\n",
    "\n",
    "В качестве вспомогательного анализа проведено изучение распределения длины сообщений по числу символов и слов, так как это может опосредованно влиять на характер векторных представлений.\n"
   ]
  },
  {
   "cell_type": "code",
   "execution_count": 41,
   "id": "e69d05c5",
   "metadata": {},
   "outputs": [
    {
     "data": {
      "image/png": "[encoded data removed]",
      "text/plain": [
       "<Figure size 1400x400 with 2 Axes>"
      ]
     },
     "metadata": {},
     "output_type": "display_data"
    }
   ],
   "source": [
    "# Расчёт длины сообщений\n",
    "df['text_length'] = df['text'].apply(len)\n",
    "df['word_count'] = df['text'].apply(lambda x: len(x.split()))\n",
    "\n",
    "fig, axes = plt.subplots(1, 2, figsize=(14, 4))\n",
    "\n",
    "# Распределение по числу символов\n",
    "axes[0].hist(df['text_length'], bins=50, color=\"#C1D4E3\")\n",
    "axes[0].set_title(\"Длина сообщений (в символах)\")\n",
    "axes[0].set_xlabel(\"Число символов\")\n",
    "axes[0].set_ylabel(\"Частота\")\n",
    "\n",
    "# Распределение по числу слов\n",
    "axes[1].hist(df['word_count'], bins=50, color='#C5ACE8')\n",
    "axes[1].set_title(\"Количество слов в сообщениях\")\n",
    "axes[1].set_xlabel(\"Число слов\")\n",
    "axes[1].set_ylabel(\"Частота\")\n",
    "\n",
    "plt.tight_layout()\n",
    "plt.show()\n"
   ]
  },
  {
   "cell_type": "markdown",
   "id": "65f5aa1d",
   "metadata": {},
   "source": [
    "Большинство сообщений содержат от 5 до 20 слов и менее 150 символов. Это подтверждает, что сообщения короткие, что типично для пользовательского контента в социальных сетях. Данный анализ дополнительно обосновывает выбор параметров TF-IDF и ограничение словаря до 10 000 признаков."
   ]
  },
  {
   "cell_type": "markdown",
   "id": "7b508977",
   "metadata": {},
   "source": [
    "# 5. Методы обучения без учителя\n",
    "\n",
    "Данный пункт не реализован в рамках работы, поскольку исследуемая задача предполагает наличие размеченной выборки и решается методами обучения с учителем. Все сообщения снабжены метками эмоциональной тональности, и основной целью является построение и сравнение моделей классификации. "
   ]
  },
  {
   "cell_type": "markdown",
   "id": "3adafee3",
   "metadata": {},
   "source": [
    "# 6. Разделение выборки на обучающую и тестовую\n",
    "\n",
    "В рамках данной работы используется случайное разбиение выборки на обучающую и тестовую части. Размер тестовой выборки составляет 20%.\n",
    "\n",
    "Для сохранения пропорций классов в обеих выборках используется стратифицированное разбиение (Stratified Split), что позволяет предотвратить смещение модели в сторону доминирующего класса.\n"
   ]
  },
  {
   "cell_type": "code",
   "execution_count": 42,
   "id": "db74d609",
   "metadata": {},
   "outputs": [
    {
     "data": {
      "text/html": [
       "<div>\n",
       "<style scoped>\n",
       "    .dataframe tbody tr th:only-of-type {\n",
       "        vertical-align: middle;\n",
       "    }\n",
       "\n",
       "    .dataframe tbody tr th {\n",
       "        vertical-align: top;\n",
       "    }\n",
       "\n",
       "    .dataframe thead th {\n",
       "        text-align: right;\n",
       "    }\n",
       "</style>\n",
       "<table border=\"1\" class=\"dataframe\">\n",
       "  <thead>\n",
       "    <tr style=\"text-align: right;\">\n",
       "      <th></th>\n",
       "      <th>label</th>\n",
       "      <th>text</th>\n",
       "      <th>label_encoded</th>\n",
       "      <th>text_preprocessed</th>\n",
       "      <th>text_length</th>\n",
       "      <th>word_count</th>\n",
       "    </tr>\n",
       "  </thead>\n",
       "  <tbody>\n",
       "    <tr>\n",
       "      <th>0</th>\n",
       "      <td>negative</td>\n",
       "      <td>А попа подозревала давно,что ты с кавказа..пер...</td>\n",
       "      <td>0</td>\n",
       "      <td>поп подозревать давно кавказ перестать общатьс...</td>\n",
       "      <td>69</td>\n",
       "      <td>10</td>\n",
       "    </tr>\n",
       "    <tr>\n",
       "      <th>3</th>\n",
       "      <td>negative</td>\n",
       "      <td>Блин, почему эта жизнь столь не справедлива ((((</td>\n",
       "      <td>0</td>\n",
       "      <td>блин почему этот жизнь столь справедливый</td>\n",
       "      <td>48</td>\n",
       "      <td>8</td>\n",
       "    </tr>\n",
       "    <tr>\n",
       "      <th>5</th>\n",
       "      <td>neutral</td>\n",
       "      <td>Решите уравнение мужских дел для жизни :\\nДомо...</td>\n",
       "      <td>1</td>\n",
       "      <td>решить уравнение мужской дело жизнь дом дерево...</td>\n",
       "      <td>76</td>\n",
       "      <td>16</td>\n",
       "    </tr>\n",
       "    <tr>\n",
       "      <th>6</th>\n",
       "      <td>positive</td>\n",
       "      <td>патамушта я крутая баба! ееее!!</td>\n",
       "      <td>2</td>\n",
       "      <td>патамушт крутой баба ееий</td>\n",
       "      <td>31</td>\n",
       "      <td>5</td>\n",
       "    </tr>\n",
       "    <tr>\n",
       "      <th>7</th>\n",
       "      <td>neutral</td>\n",
       "      <td>Просто пост :)</td>\n",
       "      <td>1</td>\n",
       "      <td>просто пост</td>\n",
       "      <td>14</td>\n",
       "      <td>3</td>\n",
       "    </tr>\n",
       "    <tr>\n",
       "      <th>8</th>\n",
       "      <td>positive</td>\n",
       "      <td>урря!я дождался этой овцыы)</td>\n",
       "      <td>2</td>\n",
       "      <td>уррить дождаться овцы</td>\n",
       "      <td>27</td>\n",
       "      <td>4</td>\n",
       "    </tr>\n",
       "    <tr>\n",
       "      <th>11</th>\n",
       "      <td>positive</td>\n",
       "      <td>Наша гордость !</td>\n",
       "      <td>2</td>\n",
       "      <td>наш гордость</td>\n",
       "      <td>15</td>\n",
       "      <td>3</td>\n",
       "    </tr>\n",
       "    <tr>\n",
       "      <th>13</th>\n",
       "      <td>negative</td>\n",
       "      <td>Походу, первым кто поздравил меня с 1 апреля -...</td>\n",
       "      <td>0</td>\n",
       "      <td>поход первый поздравить апрель это ржд мина жд...</td>\n",
       "      <td>77</td>\n",
       "      <td>15</td>\n",
       "    </tr>\n",
       "    <tr>\n",
       "      <th>14</th>\n",
       "      <td>neutral</td>\n",
       "      <td>познакомил свою девушку с Ксюшей</td>\n",
       "      <td>1</td>\n",
       "      <td>познакомить девушка ксюша</td>\n",
       "      <td>32</td>\n",
       "      <td>5</td>\n",
       "    </tr>\n",
       "    <tr>\n",
       "      <th>18</th>\n",
       "      <td>negative</td>\n",
       "      <td>Тесака арестовали...</td>\n",
       "      <td>0</td>\n",
       "      <td>тесак арестовать</td>\n",
       "      <td>21</td>\n",
       "      <td>2</td>\n",
       "    </tr>\n",
       "  </tbody>\n",
       "</table>\n",
       "</div>"
      ],
      "text/plain": [
       "       label                                               text  \\\n",
       "0   negative  А попа подозревала давно,что ты с кавказа..пер...   \n",
       "3   negative   Блин, почему эта жизнь столь не справедлива ((((   \n",
       "5    neutral  Решите уравнение мужских дел для жизни :\\nДомо...   \n",
       "6   positive                    патамушта я крутая баба! ееее!!   \n",
       "7    neutral                                     Просто пост :)   \n",
       "8   positive                        урря!я дождался этой овцыы)   \n",
       "11  positive                                    Наша гордость !   \n",
       "13  negative  Походу, первым кто поздравил меня с 1 апреля -...   \n",
       "14   neutral                   познакомил свою девушку с Ксюшей   \n",
       "18  negative                              Тесака арестовали...    \n",
       "\n",
       "    label_encoded                                  text_preprocessed  \\\n",
       "0               0  поп подозревать давно кавказ перестать общатьс...   \n",
       "3               0          блин почему этот жизнь столь справедливый   \n",
       "5               1  решить уравнение мужской дело жизнь дом дерево...   \n",
       "6               2                          патамушт крутой баба ееий   \n",
       "7               1                                        просто пост   \n",
       "8               2                              уррить дождаться овцы   \n",
       "11              2                                       наш гордость   \n",
       "13              0  поход первый поздравить апрель это ржд мина жд...   \n",
       "14              1                          познакомить девушка ксюша   \n",
       "18              0                                   тесак арестовать   \n",
       "\n",
       "    text_length  word_count  \n",
       "0            69          10  \n",
       "3            48           8  \n",
       "5            76          16  \n",
       "6            31           5  \n",
       "7            14           3  \n",
       "8            27           4  \n",
       "11           15           3  \n",
       "13           77          15  \n",
       "14           32           5  \n",
       "18           21           2  "
      ]
     },
     "execution_count": 42,
     "metadata": {},
     "output_type": "execute_result"
    }
   ],
   "source": [
    "df.head(10)"
   ]
  },
  {
   "cell_type": "code",
   "execution_count": 43,
   "id": "c13bcac8",
   "metadata": {},
   "outputs": [
    {
     "name": "stdout",
     "output_type": "stream",
     "text": [
      "Размер обучающей выборки: 12173\n",
      "Размер тестовой выборки: 3044\n"
     ]
    }
   ],
   "source": [
    "from sklearn.model_selection import train_test_split\n",
    "\n",
    "# Разделение выборки\n",
    "X_train, X_test, y_train, y_test = train_test_split(\n",
    "    df[\"text_preprocessed\"], \n",
    "    df[\"label_encoded\"],\n",
    "    test_size=0.2,\n",
    "    stratify=df[\"label_encoded\"],\n",
    "    random_state=42\n",
    ")\n",
    "\n",
    "print(f\"Размер обучающей выборки: {X_train.shape[0]}\")\n",
    "print(f\"Размер тестовой выборки: {X_test.shape[0]}\")"
   ]
  },
  {
   "cell_type": "markdown",
   "id": "de77a45e",
   "metadata": {},
   "source": [
    "# 7. Обучение и сравнение моделей\n",
    "\n",
    "На данном этапе производится обучение и сравнение семи различных моделей классификации, применимых к задаче анализа тональности текстов. Для обеспечения воспроизводимости, единообразия и компактности реализации используется программный конвейер (`Pipeline`) из библиотеки `scikit-learn`, включающий векторизацию текста методом TF-IDF и последующую классификацию.\n",
    "\n",
    "Обучение проводится на предобработанном тексте (`text_preprocessed`) с использованием заранее сформированного списка русских стоп-слов. Для оценки эффективности моделей используются метрики `accuracy`, `F1-мера`, `precision`, `recall`, а также замеряется время обучения каждой модели."
   ]
  },
  {
   "cell_type": "code",
   "execution_count": 163,
   "id": "f3e4ef2c",
   "metadata": {},
   "outputs": [],
   "source": [
    "import time\n",
    "from sklearn.pipeline import Pipeline\n",
    "from sklearn.naive_bayes import MultinomialNB\n",
    "from sklearn.neighbors import KNeighborsClassifier\n",
    "from sklearn.tree import DecisionTreeClassifier\n",
    "from sklearn.svm import LinearSVC\n",
    "from sklearn.linear_model import LogisticRegression\n",
    "from sklearn.linear_model import SGDClassifier\n",
    "from xgboost import XGBClassifier\n",
    "from sklearn.metrics import accuracy_score, f1_score, precision_score, recall_score\n",
    "\n",
    "models = {\n",
    "    \"Naive Bayes\": MultinomialNB(),\n",
    "    \"KNN\": KNeighborsClassifier(),\n",
    "    \"Decision Tree\": DecisionTreeClassifier(),\n",
    "    \"LinearSVC\": LinearSVC(),\n",
    "    \"XGBoost\": XGBClassifier(eval_metric='mlogloss'),\n",
    "    \"Logistic Regression\": LogisticRegression(),\n",
    "    \"SGD Classifier\": SGDClassifier()\n",
    "}\n"
   ]
  },
  {
   "cell_type": "markdown",
   "id": "7f0b4615",
   "metadata": {},
   "source": [
    "### 7.1 Обучение моделей и оценка качества\n",
    "\n",
    "Ниже проводится цикл обучения всех моделей с замером времени и расчётом основных метрик. Все этапы включены в единый программный конвейер."
   ]
  },
  {
   "cell_type": "code",
   "execution_count": 158,
   "id": "d0bfaf12",
   "metadata": {},
   "outputs": [],
   "source": [
    "# Хранилище результатов\n",
    "results = []\n",
    "\n",
    "# Обучение и оценка моделей\n",
    "for name, model in models.items():\n",
    "    pipeline = Pipeline([\n",
    "        (\"tfidf\", TfidfVectorizer(max_features=10000, ngram_range=(1, 3), stop_words=russian_stopwords)),\n",
    "        (\"clf\", model)\n",
    "    ])\n",
    "    \n",
    "    start_time = time.time()\n",
    "    pipeline.fit(X_train, y_train)\n",
    "    fit_time = time.time() - start_time\n",
    "\n",
    "    y_pred = pipeline.predict(X_test)\n",
    "\n",
    "    results.append({\n",
    "        \"Модель\": name,\n",
    "        \"Accuracy\": accuracy_score(y_test, y_pred),\n",
    "        \"F1\": f1_score(y_test, y_pred, average='weighted'),\n",
    "        \"Precision\": precision_score(y_test, y_pred, average='weighted', zero_division=0),\n",
    "        \"Recall\": recall_score(y_test, y_pred, average='weighted'),\n",
    "        \"Время обучения, с\": round(fit_time, 2)\n",
    "    })"
   ]
  },
  {
   "cell_type": "markdown",
   "id": "370f277b",
   "metadata": {},
   "source": [
    "Выбор таких (взвешенных) метрик, как `F1-score`, `Precision` и `Recall` с параметром `average='weighted'`, объясняется тем, что в [п. 2.3](###23-анализ-распределения-классов) было зафиксировано следующее распределение классов: класс `neutral` значительно преобладает над `positive` и особенно `negative`.\n",
    "\n",
    "В таких условиях использование обычного `accuracy` или усреднения `macro`, которое даёт всем классам одинаковый вес, может искажать реальное качество модели. Напротив, `weighted`-метрики учитывают дисбаланс, взвешивая вклад каждого класса пропорционально его представленности в выборке, что позволяет получить более объективную оценку эффективности классификаторов в условиях реальных (несбалансированных) данных."
   ]
  },
  {
   "cell_type": "markdown",
   "id": "63e7ae05",
   "metadata": {},
   "source": [
    "### 7.2 Сравнение результатов"
   ]
  },
  {
   "cell_type": "code",
   "execution_count": 159,
   "id": "b562c597",
   "metadata": {},
   "outputs": [
    {
     "data": {
      "text/html": [
       "<div>\n",
       "<style scoped>\n",
       "    .dataframe tbody tr th:only-of-type {\n",
       "        vertical-align: middle;\n",
       "    }\n",
       "\n",
       "    .dataframe tbody tr th {\n",
       "        vertical-align: top;\n",
       "    }\n",
       "\n",
       "    .dataframe thead th {\n",
       "        text-align: right;\n",
       "    }\n",
       "</style>\n",
       "<table border=\"1\" class=\"dataframe\">\n",
       "  <thead>\n",
       "    <tr style=\"text-align: right;\">\n",
       "      <th></th>\n",
       "      <th>Модель</th>\n",
       "      <th>Accuracy</th>\n",
       "      <th>F1</th>\n",
       "      <th>Precision</th>\n",
       "      <th>Recall</th>\n",
       "      <th>Время обучения, с</th>\n",
       "    </tr>\n",
       "  </thead>\n",
       "  <tbody>\n",
       "    <tr>\n",
       "      <th>0</th>\n",
       "      <td>Naive Bayes</td>\n",
       "      <td>0.656373</td>\n",
       "      <td>0.605529</td>\n",
       "      <td>0.702934</td>\n",
       "      <td>0.656373</td>\n",
       "      <td>0.60</td>\n",
       "    </tr>\n",
       "    <tr>\n",
       "      <th>1</th>\n",
       "      <td>KNN</td>\n",
       "      <td>0.568003</td>\n",
       "      <td>0.520741</td>\n",
       "      <td>0.540723</td>\n",
       "      <td>0.568003</td>\n",
       "      <td>0.39</td>\n",
       "    </tr>\n",
       "    <tr>\n",
       "      <th>2</th>\n",
       "      <td>Decision Tree</td>\n",
       "      <td>0.630420</td>\n",
       "      <td>0.624988</td>\n",
       "      <td>0.622179</td>\n",
       "      <td>0.630420</td>\n",
       "      <td>5.10</td>\n",
       "    </tr>\n",
       "    <tr>\n",
       "      <th>3</th>\n",
       "      <td>LinearSVC</td>\n",
       "      <td>0.670499</td>\n",
       "      <td>0.660605</td>\n",
       "      <td>0.661327</td>\n",
       "      <td>0.670499</td>\n",
       "      <td>0.51</td>\n",
       "    </tr>\n",
       "    <tr>\n",
       "      <th>4</th>\n",
       "      <td>XGBoost</td>\n",
       "      <td>0.673127</td>\n",
       "      <td>0.635035</td>\n",
       "      <td>0.692075</td>\n",
       "      <td>0.673127</td>\n",
       "      <td>3.58</td>\n",
       "    </tr>\n",
       "    <tr>\n",
       "      <th>5</th>\n",
       "      <td>Logistic Regression</td>\n",
       "      <td>0.684954</td>\n",
       "      <td>0.659223</td>\n",
       "      <td>0.687470</td>\n",
       "      <td>0.684954</td>\n",
       "      <td>0.73</td>\n",
       "    </tr>\n",
       "    <tr>\n",
       "      <th>6</th>\n",
       "      <td>SGD Classifier</td>\n",
       "      <td>0.693495</td>\n",
       "      <td>0.672048</td>\n",
       "      <td>0.697943</td>\n",
       "      <td>0.693495</td>\n",
       "      <td>0.41</td>\n",
       "    </tr>\n",
       "  </tbody>\n",
       "</table>\n",
       "</div>"
      ],
      "text/plain": [
       "                Модель  Accuracy        F1  Precision    Recall  \\\n",
       "0          Naive Bayes  0.656373  0.605529   0.702934  0.656373   \n",
       "1                  KNN  0.568003  0.520741   0.540723  0.568003   \n",
       "2        Decision Tree  0.630420  0.624988   0.622179  0.630420   \n",
       "3            LinearSVC  0.670499  0.660605   0.661327  0.670499   \n",
       "4              XGBoost  0.673127  0.635035   0.692075  0.673127   \n",
       "5  Logistic Regression  0.684954  0.659223   0.687470  0.684954   \n",
       "6       SGD Classifier  0.693495  0.672048   0.697943  0.693495   \n",
       "\n",
       "   Время обучения, с  \n",
       "0               0.60  \n",
       "1               0.39  \n",
       "2               5.10  \n",
       "3               0.51  \n",
       "4               3.58  \n",
       "5               0.73  \n",
       "6               0.41  "
      ]
     },
     "metadata": {},
     "output_type": "display_data"
    }
   ],
   "source": [
    "results_df = pd.DataFrame(results)\n",
    "display(results_df)"
   ]
  },
  {
   "cell_type": "code",
   "execution_count": 160,
   "id": "a2e399d4",
   "metadata": {},
   "outputs": [
    {
     "data": {
      "image/png": "[encoded data removed]",
      "text/plain": [
       "<Figure size 1500x500 with 1 Axes>"
      ]
     },
     "metadata": {},
     "output_type": "display_data"
    }
   ],
   "source": [
    "# Визуализация: F1 vs Время обучения\n",
    "plt.figure(figsize=(15, 5))\n",
    "sns.scatterplot(\n",
    "    data=results_df,\n",
    "    x=\"Время обучения, с\",\n",
    "    y=\"F1\",\n",
    "    hue=\"Модель\",\n",
    "    s=200,\n",
    "    palette=\"BuPu\"\n",
    ")\n",
    "\n",
    "# Подписи точек\n",
    "for i in range(len(results_df)):\n",
    "    plt.text(\n",
    "        results_df[\"Время обучения, с\"][i] + 0.05,\n",
    "        results_df[\"F1\"][i],\n",
    "        results_df[\"Модель\"][i],\n",
    "        fontsize=9\n",
    "    )\n",
    "\n",
    "plt.title(\"Сравнение моделей по F1 и времени обучения\", fontsize=14)\n",
    "plt.xlabel(\"Время обучения, с\")\n",
    "plt.ylabel(\"F1-мера (weighted)\")\n",
    "plt.grid(True)\n",
    "plt.tight_layout()\n",
    "plt.show()\n"
   ]
  },
  {
   "cell_type": "markdown",
   "id": "62c5556d",
   "metadata": {},
   "source": [
    "Модель ближе к левому верхнему углу (`SGD Classifier`) - быстрая и эффективная, поэтому будет использоваться для дальнейшей оптимизации."
   ]
  },
  {
   "cell_type": "code",
   "execution_count": 161,
   "id": "1d841ad7",
   "metadata": {},
   "outputs": [
    {
     "data": {
      "image/png": "[encoded data removed]",
      "text/plain": [
       "<Figure size 800x500 with 1 Axes>"
      ]
     },
     "metadata": {},
     "output_type": "display_data"
    }
   ],
   "source": [
    "plt.figure(figsize=(8, 5))\n",
    "sns.barplot(\n",
    "    data=results_df.sort_values(\"F1\", ascending=False),\n",
    "    x=\"F1\",\n",
    "    y=\"Модель\",\n",
    "    hue=\"Модель\",            \n",
    "    palette=\"BuPu\",\n",
    "    dodge=False,\n",
    "    legend=False             \n",
    ")\n",
    "plt.title(\"Сравнение моделей по F1\")\n",
    "plt.xlabel(\"F1\")\n",
    "plt.ylabel(\"Модель\")\n",
    "plt.xlim(0, 1)\n",
    "plt.grid(axis='x')\n",
    "plt.tight_layout()\n",
    "plt.show()\n"
   ]
  },
  {
   "cell_type": "code",
   "execution_count": 162,
   "id": "543bc524",
   "metadata": {},
   "outputs": [
    {
     "data": {
      "image/png": "[encoded data removed]",
      "text/plain": [
       "<Figure size 1200x600 with 1 Axes>"
      ]
     },
     "metadata": {},
     "output_type": "display_data"
    }
   ],
   "source": [
    "melted = results_df.melt(id_vars=\"Модель\", value_vars=[\"Accuracy\", \"F1\", \"Precision\", \"Recall\"],\n",
    "                         var_name=\"Метрика\", value_name=\"Значение\")\n",
    "\n",
    "plt.figure(figsize=(12, 6))\n",
    "sns.barplot(data=melted, x=\"Модель\", y=\"Значение\", hue=\"Метрика\", palette=\"BuPu\")\n",
    "plt.title(\"Сравнение моделей по метрикам\")\n",
    "plt.ylim(0, 1)\n",
    "plt.ylabel(\"Значение\")\n",
    "plt.xlabel(\"Модель\")\n",
    "plt.xticks(rotation=45)\n",
    "plt.grid(axis='y')\n",
    "plt.tight_layout()\n",
    "plt.show()\n"
   ]
  },
  {
   "cell_type": "markdown",
   "id": "b7604fe9",
   "metadata": {},
   "source": [
    "### Вывод по результатам классификации (п. 7)\n",
    "\n",
    "Сравнение семи моделей показало различия как по качеству классификации, так и по времени обучения.  \n",
    "Наилучшие результаты продемонстрировал **SGD Classifier**: он достиг наивысшей F1-мeры (0.674) при очень коротком времени обучения (0.44 с), что делает его оптимальным кандидатом для дальнейшей настройки через `GridSearchCV`.\n",
    "\n",
    "Также высокие показатели показали **Logistic Regression** и **LinearSVC**, уступая SGD незначительно, но оставаясь быстрыми и стабильными.  \n",
    "**XGBoost** дал хорошие метрики, но требует больше времени (3.6 с) и ресурсов.  \n",
    "**KNN** и **Naive Bayes** существенно отстают по всем метрикам, особенно по полноте (`Recall`), что делает их менее подходящими.\n",
    "\n",
    "**Для оптимизации выбрана модель: `SGD Classifier`** как наиболее перспективная по совокупности качества и скорости.\n"
   ]
  },
  {
   "cell_type": "markdown",
   "id": "4ef25cbf",
   "metadata": {},
   "source": [
    "# 8. Оптимизация модели\n",
    "В данном пункте проводится подбор гиперпараметров для наиболее перспективной модели, выявленной на предыдущем этапе — `SGDClassifier`. Цель — повысить эффективность модели для задачи классификации сообщений из социальных сетей по эмоциональной тональности. Оптимизация направлена на улучшение метрик качества, в первую очередь **`f1_weighted`**, которая учитывает дисбаланс классов (см. п. 2.3), а также на минимизацию времени обучения для обеспечения практической применимости модели."
   ]
  },
  {
   "cell_type": "markdown",
   "id": "a7534a87",
   "metadata": {},
   "source": [
    "### 8.1 Выбор базовой модели\n",
    "\n",
    "По результатам сравнительного анализа моделей (см. пункт 7), наилучшее соотношение качества классификации и времени обучения показала модель **SGD Classifier**. Она продемонстрировала наивысшее значение F1-мeры при минимальном времени обучения, в связи с чем была выбрана для дальнейшей оптимизации.\n",
    "Цель этапа — подобрать такие значения гиперпараметров, при которых эффективность модели на тестовой выборке будет максимальной.\n",
    "\n",
    "Основной метрикой выбрана **`f1_weighted`**, так как она учитывает как полноту, так и точность предсказаний по каждому классу, а также пропорцию этих классов в выборке. Это позволяет честно оценивать качество моделей при дисбалансе классов.\n",
    "\n",
    "Дополнительно анализируются:\n",
    "\n",
    " - `accuracy` — доля правильных предсказаний.\n",
    " - `precision_weighted` и `recall_weighted` — для анализа качества классификации по классам.\n",
    " - Время обучения — для анализа вычислительной эффективности.\n",
    "\n",
    "Базовая модель реализована через программный конвейер (`Pipeline`), включающий векторизацию текста с помощью `TfidfVectorizer` и классификацию с помощью `SGDClassifier`."
   ]
  },
  {
   "cell_type": "code",
   "execution_count": 204,
   "id": "fd3a3367",
   "metadata": {},
   "outputs": [],
   "source": [
    "# Исходная модель (SGDClassifier)\n",
    "baseline_model = Pipeline([\n",
    "    (\"tfidf\", TfidfVectorizer(max_features=10000, ngram_range=(1, 2), stop_words=russian_stopwords)),\n",
    "    (\"clf\", SGDClassifier(random_state=42))\n",
    "])\n",
    "\n",
    "start_time = time.time()\n",
    "baseline_model.fit(X_train, y_train)\n",
    "elapsed_time = round(time.time() - start_time, 2)\n",
    "\n",
    "# Метрики до оптимизации\n",
    "metrics_before = {\n",
    "    \"Accuracy\": accuracy_score(y_test, y_pred),\n",
    "    \"F1\": f1_score(y_test, y_pred, average=\"weighted\"),\n",
    "    \"Precision\": precision_score(y_test, y_pred, average=\"weighted\", zero_division=0),\n",
    "    \"Recall\": recall_score(y_test, y_pred, average=\"weighted\"),\n",
    "    \"Время обучения, с\": elapsed_time\n",
    "}"
   ]
  },
  {
   "cell_type": "markdown",
   "id": "0bb3a116",
   "metadata": {},
   "source": [
    "### 8.2 Подбор гиперпараметров\n",
    "\n",
    "Для повышения эффективности модели `SGDClassifier` выполнен подбор гиперпараметров с использованием метода `GridSearchCV`. Данный метод представляет собой полный перебор всех допустимых комбинаций параметров и позволяет определить оптимальные значения, обеспечивающие наилучшие результаты по заданной метрике. В качестве основной метрики используется `f1_weighted`, так как она наиболее адекватно отражает качество классификации при наличии несбалансированных классов. Оценка эффективности модели проводится с использованием 5-кратной кросс-валидации, что повышает надежность получаемых результатов и снижает вероятность переобучения.\n",
    "\n",
    "Модель реализована в виде программного конвейера (`Pipeline`), что обеспечивает целостность и повторяемость всех этапов обработки данных. Комбинированное представление текста формируется посредством объединения двух векторизаторов в `FeatureUnion`:\n",
    "\n",
    "- **word-TF-IDF** — извлекает семантически значимые признаки на основе униграмм и биграмм;\n",
    "- **char-TF-IDF** — позволяет выявлять орфографические, эмоциональные и сленговые особенности текста за счёт использования символьных N-грамм.\n",
    "\n",
    "Такое объединение обеспечивает полноту представления текстовой информации: от смыслового уровня до стилистических деталей.\n",
    "\n",
    "Настройка осуществляется по следующим параметрам:\n",
    "\n",
    "**Параметры `TfidfVectorizer` (анализ по словам):**\n",
    "- `ngram_range`: `(1, 1)` и `(1, 2)` — использование униграмм и биграмм;\n",
    "- `max_features`: `20000` — ограничение словаря по частоте для снижения размерности признакового пространства;\n",
    "- `min_df`: `2` — фильтрация редких слов;\n",
    "- `sublinear_tf`: `True` — логарифмическое масштабирование TF.\n",
    "\n",
    "**Параметры `TfidfVectorizer` (анализ по символам):**\n",
    "- `analyzer`: `\"char\"`;\n",
    "- `ngram_range`: `(3, 5)` — последовательности длиной от 3 до 5 символов;\n",
    "- `min_df`: `2` — удаление редких символьных комбинаций.\n",
    "\n",
    "**Параметры классификатора `SGDClassifier`:**\n",
    "- `loss`: `log_loss` — логистическая функция потерь;\n",
    "- `penalty`: `l2`, `elasticnet` — варианты регуляризации;\n",
    "- `alpha`: `1e-4`, `3e-4`, `1e-3` — коэффициенты регуляризации;\n",
    "- `class_weight`: `None`, `\"balanced\"` — использование или игнорирование автоматической балансировки классов.\n",
    "\n",
    "Подбор параметров направлен на достижение баланса между точностью классификации и устойчивостью модели.\n"
   ]
  },
  {
   "cell_type": "code",
   "execution_count": 210,
   "id": "863babe0",
   "metadata": {},
   "outputs": [
    {
     "name": "stdout",
     "output_type": "stream",
     "text": [
      "Fitting 5 folds for each of 24 candidates, totalling 120 fits\n"
     ]
    }
   ],
   "source": [
    "from sklearn.pipeline import FeatureUnion\n",
    "from sklearn.model_selection import GridSearchCV\n",
    "\n",
    "\n",
    "pipeline = Pipeline([\n",
    "    (\"vect\", FeatureUnion([\n",
    "        (\"word\", TfidfVectorizer(analyzer=\"word\")),\n",
    "        (\"char\", TfidfVectorizer(analyzer=\"char\", ngram_range=(3, 5)))\n",
    "    ])),\n",
    "    (\"clf\", SGDClassifier(random_state=42, max_iter=1000))\n",
    "])\n",
    "\n",
    "# Параметры для настройки\n",
    "param_grid = {\n",
    "    # word-TF-IDF\n",
    "    \"vect__word__ngram_range\":     [(1, 1), (1, 2)],\n",
    "    \"vect__word__max_features\":    [20_000],\n",
    "    \"vect__word__min_df\":          [2],\n",
    "    \"vect__word__sublinear_tf\":    [True],\n",
    "    # char-TF-IDF\n",
    "    \"vect__char__min_df\":          [2],\n",
    "    # SGD\n",
    "    \"clf__loss\":                   [\"log_loss\"],\n",
    "    \"clf__penalty\":                [\"l2\", \"elasticnet\"],\n",
    "    \"clf__alpha\":                  [1e-4, 3e-4, 1e-3],   \n",
    "    \"clf__class_weight\":           [None, \"balanced\"],\n",
    "}\n",
    "\n",
    "# Grid Search\n",
    "grid_search = GridSearchCV(\n",
    "    estimator=pipeline,\n",
    "    param_grid=param_grid,\n",
    "    scoring=\"f1_weighted\",\n",
    "    cv=5,\n",
    "    n_jobs=-1,\n",
    "    verbose=2\n",
    ")\n",
    "\n",
    "# Обучение с кросс-валидацией\n",
    "start_time = time.time()\n",
    "grid_search.fit(X_train, y_train)\n",
    "elapsed_time = round(time.time() - start_time, 2)"
   ]
  },
  {
   "cell_type": "code",
   "execution_count": 214,
   "id": "f16d7f73",
   "metadata": {},
   "outputs": [],
   "source": [
    "# Лучшая модель\n",
    "best_model = grid_search.best_estimator_\n",
    "y_pred_after = best_model.predict(X_test)\n",
    "\n",
    "# Метрики после оптимизации\n",
    "metrics_after = {\n",
    "    \"Accuracy\": accuracy_score(y_test, y_pred_after),\n",
    "    \"F1\": f1_score(y_test, y_pred_after, average=\"weighted\"),\n",
    "    \"Precision\": precision_score(y_test, y_pred_after, average=\"weighted\", zero_division=0),\n",
    "    \"Recall\": recall_score(y_test, y_pred_after, average=\"weighted\"),\n",
    "    \"Время обучения, с\": elapsed_time\n",
    "}"
   ]
  },
  {
   "cell_type": "code",
   "execution_count": 215,
   "id": "d8d611d4",
   "metadata": {},
   "outputs": [
    {
     "name": "stdout",
     "output_type": "stream",
     "text": [
      "================== До оптимизации ===================\n",
      "              precision    recall  f1-score   support\n",
      "\n",
      "           0      0.701     0.301     0.421       459\n",
      "           1      0.685     0.888     0.773      1658\n",
      "           2      0.722     0.544     0.620       927\n",
      "\n",
      "    accuracy                          0.694      3044\n",
      "   macro avg      0.703     0.577     0.605      3044\n",
      "weighted avg      0.699     0.694     0.674      3044\n",
      "\n",
      "\n",
      "================== После оптимизации ================\n",
      "              precision    recall  f1-score   support\n",
      "\n",
      "           0      0.577     0.451     0.506       459\n",
      "           1      0.732     0.836     0.781      1658\n",
      "           2      0.729     0.622     0.671       927\n",
      "\n",
      "    accuracy                          0.713      3044\n",
      "   macro avg      0.679     0.636     0.653      3044\n",
      "weighted avg      0.708     0.713     0.706      3044\n",
      "\n"
     ]
    }
   ],
   "source": [
    "from sklearn.metrics import classification_report\n",
    "\n",
    "# До оптимизации\n",
    "print(\"================== До оптимизации ===================\")\n",
    "print(classification_report(y_test, baseline_model.predict(X_test), digits=3))\n",
    "\n",
    "# После оптимизации\n",
    "best_model = grid_search.best_estimator_\n",
    "print(\"\\n================== После оптимизации ================\")\n",
    "print(classification_report(y_test, best_model.predict(X_test), digits=3))"
   ]
  },
  {
   "cell_type": "code",
   "execution_count": 216,
   "id": "1168ea5f",
   "metadata": {},
   "outputs": [
    {
     "data": {
      "text/html": [
       "<div>\n",
       "<style scoped>\n",
       "    .dataframe tbody tr th:only-of-type {\n",
       "        vertical-align: middle;\n",
       "    }\n",
       "\n",
       "    .dataframe tbody tr th {\n",
       "        vertical-align: top;\n",
       "    }\n",
       "\n",
       "    .dataframe thead th {\n",
       "        text-align: right;\n",
       "    }\n",
       "</style>\n",
       "<table border=\"1\" class=\"dataframe\">\n",
       "  <thead>\n",
       "    <tr style=\"text-align: right;\">\n",
       "      <th></th>\n",
       "      <th>Accuracy</th>\n",
       "      <th>F1</th>\n",
       "      <th>Precision</th>\n",
       "      <th>Recall</th>\n",
       "      <th>Время обучения, с</th>\n",
       "    </tr>\n",
       "  </thead>\n",
       "  <tbody>\n",
       "    <tr>\n",
       "      <th>Базовая</th>\n",
       "      <td>0.693495</td>\n",
       "      <td>0.672048</td>\n",
       "      <td>0.697943</td>\n",
       "      <td>0.693495</td>\n",
       "      <td>0.32</td>\n",
       "    </tr>\n",
       "    <tr>\n",
       "      <th>Оптимизированная</th>\n",
       "      <td>0.712878</td>\n",
       "      <td>0.705945</td>\n",
       "      <td>0.707606</td>\n",
       "      <td>0.712878</td>\n",
       "      <td>47.57</td>\n",
       "    </tr>\n",
       "  </tbody>\n",
       "</table>\n",
       "</div>"
      ],
      "text/plain": [
       "                  Accuracy        F1  Precision    Recall  Время обучения, с\n",
       "Базовая           0.693495  0.672048   0.697943  0.693495               0.32\n",
       "Оптимизированная  0.712878  0.705945   0.707606  0.712878              47.57"
      ]
     },
     "metadata": {},
     "output_type": "display_data"
    }
   ],
   "source": [
    "comparison_df = pd.DataFrame([metrics_before, metrics_after], index=[\"Базовая\", \"Оптимизированная\"])\n",
    "display(comparison_df)"
   ]
  },
  {
   "cell_type": "code",
   "execution_count": 249,
   "id": "c415f7f3",
   "metadata": {},
   "outputs": [
    {
     "name": "stdout",
     "output_type": "stream",
     "text": [
      "Оптимальные значения гиперпараметров модели:\n",
      "\n",
      "clf__alpha                     :  0.0001\n",
      "clf__class_weight              :  balanced\n",
      "clf__loss                      :  log_loss\n",
      "clf__penalty                   :  l2\n",
      "vect__char__min_df             :  2\n",
      "vect__word__max_features       :  20000\n",
      "vect__word__min_df             :  2\n",
      "vect__word__ngram_range        :  (1, 2)\n",
      "vect__word__sublinear_tf       :  True\n"
     ]
    }
   ],
   "source": [
    "best_params = grid_search.best_params_\n",
    "\n",
    "print(\"Оптимальные значения гиперпараметров модели:\\n\")\n",
    "\n",
    "for param, value in best_params.items():\n",
    "    print(f\"{param:30} :  {value}\")"
   ]
  },
  {
   "cell_type": "markdown",
   "id": "d0060cc0",
   "metadata": {},
   "source": [
    "### 8.3 Визуализация результатов\n",
    "\n",
    "Для анализа результатов оптимизации построены визуализации, демонстрирующие изменения метрик качества и времени обучения. Это позволяет оценить эффективность подбора гиперпараметров с помощью `GridSearchCV`. "
   ]
  },
  {
   "cell_type": "code",
   "execution_count": 201,
   "id": "eb7e50cf",
   "metadata": {},
   "outputs": [],
   "source": [
    "comparison_df_melted = comparison_df.melt(\n",
    "    id_vars=[\"Модель\"], \n",
    "    value_vars=[\"Accuracy\", \"F1\", \"Precision\", \"Recall\"],\n",
    "    var_name=\"Метрика\", \n",
    "    value_name=\"Значение\"\n",
    ")"
   ]
  },
  {
   "cell_type": "markdown",
   "id": "9511759a",
   "metadata": {},
   "source": [
    "Барплот демонстрирует значения метрик (`Accuracy`, `F1`, `Precision`, `Recall`) для базовой и оптимизированной моделей. Этот график позволяет визуально оценить прирост качества после применения `GridSearchCV`.\n",
    "Тепловая карта отображает числовые значения метрик в виде цветовой матрицы, где интенсивность цвета соответствует величине метрики. Это обеспечивает быстрое сравнение результатов до и после оптимизации."
   ]
  },
  {
   "cell_type": "code",
   "execution_count": 229,
   "id": "348fe74e",
   "metadata": {},
   "outputs": [
    {
     "data": {
      "image/png": "[encoded data removed]",
      "text/plain": [
       "<Figure size 1600x600 with 3 Axes>"
      ]
     },
     "metadata": {},
     "output_type": "display_data"
    }
   ],
   "source": [
    "fig, axes = plt.subplots(1, 2, figsize=(16, 6))\n",
    "\n",
    "# Barplot\n",
    "sns.barplot(\n",
    "    data=comparison_df_melted,\n",
    "    x=\"Модель\",\n",
    "    y=\"Значение\",\n",
    "    hue=\"Метрика\",\n",
    "    palette=\"BuPu\",\n",
    "    ax=axes[0]\n",
    ")\n",
    "axes[0].set_title(\"Сравнение метрик качества до и после оптимизации\")\n",
    "axes[0].set_ylim(0, 1)\n",
    "axes[0].set_ylabel(\"Значение метрики\")\n",
    "axes[0].set_xlabel(\"Модель\")\n",
    "axes[0].grid(axis='y')\n",
    "axes[0].legend(title=\"Метрика\", loc=\"upper right\")\n",
    "\n",
    "# Heatmap\n",
    "sns.heatmap(\n",
    "    comparison_df[[\"Accuracy\", \"F1\", \"Precision\", \"Recall\"]].T,\n",
    "    annot=True,\n",
    "    fmt=\".3f\",\n",
    "    cmap=\"BuPu\",\n",
    "    cbar_kws={'label': 'Значение'},\n",
    "    ax=axes[1]\n",
    ")\n",
    "\n",
    "axes[1].set_title(\"Тепловая карта метрик качества\")\n",
    "axes[1].set_ylabel(\"Метрика\")\n",
    "axes[1].set_xlabel(\"Модель\")\n",
    "\n",
    "axes[1].set_yticklabels(axes[1].get_yticklabels(), rotation=0)\n",
    "\n",
    "plt.tight_layout()\n",
    "plt.show()"
   ]
  },
  {
   "cell_type": "code",
   "execution_count": null,
   "id": "894b7d95",
   "metadata": {},
   "outputs": [],
   "source": [
    "report_before = classification_report(y_test, baseline_model.predict(X_test), output_dict=True)\n",
    "report_after = classification_report(y_test, best_model.predict(X_test), output_dict=True)\n",
    "\n",
    "df_before = pd.DataFrame(report_before).T\n",
    "df_after = pd.DataFrame(report_after).T\n",
    "\n",
    "# Убираем строки с avg и accuracy\n",
    "classes = [label for label in df_before.index if label.isdigit()]\n",
    "\n",
    "df_class_metrics = pd.DataFrame({\n",
    "    \"Класс\": [],\n",
    "    \"Метрика\": [],\n",
    "    \"До оптимизации\": [],\n",
    "    \"После оптимизации\": []\n",
    "})\n",
    "\n",
    "# Cловарь меток\n",
    "label_names = {\n",
    "    \"0\": \"negative\",\n",
    "    \"1\": \"neutral\",\n",
    "    \"2\": \"positive\"\n",
    "}\n",
    "\n",
    "rows = []\n",
    "\n",
    "for cls in classes:\n",
    "    label = label_names.get(cls, f\"Класс {cls}\")\n",
    "    for metric in [\"precision\", \"recall\", \"f1-score\"]:\n",
    "        rows.append({\n",
    "            \"Класс\": label,\n",
    "            \"Метрика\": metric.capitalize(),\n",
    "            \"До оптимизации\": df_before.loc[cls, metric],\n",
    "            \"После оптимизации\": df_after.loc[cls, metric]\n",
    "        })\n",
    "\n",
    "df_class_metrics = pd.DataFrame(rows)"
   ]
  },
  {
   "cell_type": "code",
   "execution_count": 236,
   "id": "369d7445",
   "metadata": {},
   "outputs": [
    {
     "data": {
      "text/html": [
       "<div>\n",
       "<style scoped>\n",
       "    .dataframe tbody tr th:only-of-type {\n",
       "        vertical-align: middle;\n",
       "    }\n",
       "\n",
       "    .dataframe tbody tr th {\n",
       "        vertical-align: top;\n",
       "    }\n",
       "\n",
       "    .dataframe thead th {\n",
       "        text-align: right;\n",
       "    }\n",
       "</style>\n",
       "<table border=\"1\" class=\"dataframe\">\n",
       "  <thead>\n",
       "    <tr style=\"text-align: right;\">\n",
       "      <th></th>\n",
       "      <th>Класс</th>\n",
       "      <th>Метрика</th>\n",
       "      <th>До оптимизации</th>\n",
       "      <th>После оптимизации</th>\n",
       "    </tr>\n",
       "  </thead>\n",
       "  <tbody>\n",
       "    <tr>\n",
       "      <th>0</th>\n",
       "      <td>negative</td>\n",
       "      <td>Precision</td>\n",
       "      <td>0.700508</td>\n",
       "      <td>0.576602</td>\n",
       "    </tr>\n",
       "    <tr>\n",
       "      <th>1</th>\n",
       "      <td>negative</td>\n",
       "      <td>Recall</td>\n",
       "      <td>0.300654</td>\n",
       "      <td>0.450980</td>\n",
       "    </tr>\n",
       "    <tr>\n",
       "      <th>2</th>\n",
       "      <td>negative</td>\n",
       "      <td>F1-score</td>\n",
       "      <td>0.420732</td>\n",
       "      <td>0.506112</td>\n",
       "    </tr>\n",
       "    <tr>\n",
       "      <th>3</th>\n",
       "      <td>neutral</td>\n",
       "      <td>Precision</td>\n",
       "      <td>0.684970</td>\n",
       "      <td>0.732171</td>\n",
       "    </tr>\n",
       "    <tr>\n",
       "      <th>4</th>\n",
       "      <td>neutral</td>\n",
       "      <td>Recall</td>\n",
       "      <td>0.887817</td>\n",
       "      <td>0.835947</td>\n",
       "    </tr>\n",
       "    <tr>\n",
       "      <th>5</th>\n",
       "      <td>neutral</td>\n",
       "      <td>F1-score</td>\n",
       "      <td>0.773312</td>\n",
       "      <td>0.780625</td>\n",
       "    </tr>\n",
       "    <tr>\n",
       "      <th>6</th>\n",
       "      <td>positive</td>\n",
       "      <td>Precision</td>\n",
       "      <td>0.722063</td>\n",
       "      <td>0.728535</td>\n",
       "    </tr>\n",
       "    <tr>\n",
       "      <th>7</th>\n",
       "      <td>positive</td>\n",
       "      <td>Recall</td>\n",
       "      <td>0.543689</td>\n",
       "      <td>0.622438</td>\n",
       "    </tr>\n",
       "    <tr>\n",
       "      <th>8</th>\n",
       "      <td>positive</td>\n",
       "      <td>F1-score</td>\n",
       "      <td>0.620308</td>\n",
       "      <td>0.671321</td>\n",
       "    </tr>\n",
       "  </tbody>\n",
       "</table>\n",
       "</div>"
      ],
      "text/plain": [
       "      Класс    Метрика  До оптимизации  После оптимизации\n",
       "0  negative  Precision        0.700508           0.576602\n",
       "1  negative     Recall        0.300654           0.450980\n",
       "2  negative   F1-score        0.420732           0.506112\n",
       "3   neutral  Precision        0.684970           0.732171\n",
       "4   neutral     Recall        0.887817           0.835947\n",
       "5   neutral   F1-score        0.773312           0.780625\n",
       "6  positive  Precision        0.722063           0.728535\n",
       "7  positive     Recall        0.543689           0.622438\n",
       "8  positive   F1-score        0.620308           0.671321"
      ]
     },
     "execution_count": 236,
     "metadata": {},
     "output_type": "execute_result"
    }
   ],
   "source": [
    "df_class_metrics"
   ]
  },
  {
   "cell_type": "code",
   "execution_count": 247,
   "id": "361a1ec3",
   "metadata": {},
   "outputs": [
    {
     "data": {
      "image/png": "[encoded data removed]",
      "text/plain": [
       "<Figure size 1117.88x500 with 2 Axes>"
      ]
     },
     "metadata": {},
     "output_type": "display_data"
    }
   ],
   "source": [
    "g = sns.catplot(\n",
    "    data=melted,\n",
    "    kind=\"bar\",\n",
    "    x=\"Класс\",\n",
    "    y=\"Значение\",\n",
    "    hue=\"Метрика\",\n",
    "    col=\"Состояние\",\n",
    "    palette=\"BuPu\",\n",
    "    height=5,\n",
    "    aspect=1\n",
    ")\n",
    "\n",
    "g.set_titles(\"{col_name}\")\n",
    "g.set(ylim=(0, 1))\n",
    "g.set_axis_labels(\"Класс\", \"Значение метрики\")\n",
    "g.despine(left=True)\n",
    "\n",
    "g._legend.set_loc(\"upper right\")\n",
    "g._legend.set_title(\"Метрика\")\n",
    "\n",
    "plt.tight_layout()\n",
    "plt.show()\n"
   ]
  },
  {
   "cell_type": "code",
   "execution_count": 244,
   "id": "79b17829",
   "metadata": {},
   "outputs": [
    {
     "data": {
      "image/png": "[encoded data removed]",
      "text/plain": [
       "<Figure size 800x500 with 1 Axes>"
      ]
     },
     "metadata": {},
     "output_type": "display_data"
    }
   ],
   "source": [
    "f1_by_class = pd.DataFrame({\n",
    "    \"Класс\": [\"negative\", \"neutral\", \"positive\"],\n",
    "    \"До оптимизации\": [\n",
    "        df_before.loc[\"0\", \"f1-score\"],\n",
    "        df_before.loc[\"1\", \"f1-score\"],\n",
    "        df_before.loc[\"2\", \"f1-score\"]\n",
    "    ],\n",
    "    \"После оптимизации\": [\n",
    "        df_after.loc[\"0\", \"f1-score\"],\n",
    "        df_after.loc[\"1\", \"f1-score\"],\n",
    "        df_after.loc[\"2\", \"f1-score\"]\n",
    "    ]\n",
    "})\n",
    "\n",
    "# Melt для barplot\n",
    "f1_melted = f1_by_class.melt(id_vars=\"Класс\", var_name=\"Состояние\", value_name=\"F1\")\n",
    "\n",
    "# График\n",
    "plt.figure(figsize=(8, 5))\n",
    "sns.barplot(data=f1_melted, x=\"Класс\", y=\"F1\", hue=\"Состояние\", palette=\"BuPu\")\n",
    "plt.title(\"F1-score по классам: До и после оптимизации\")\n",
    "plt.ylim(0, 1)\n",
    "plt.ylabel(\"F1-score\")\n",
    "plt.grid(axis='y', linestyle='--', alpha=0.5)\n",
    "plt.tight_layout()\n",
    "plt.show()\n"
   ]
  },
  {
   "cell_type": "markdown",
   "id": "048138e2",
   "metadata": {},
   "source": [
    "### 8.4 Выводы"
   ]
  },
  {
   "cell_type": "markdown",
   "id": "ec553c22",
   "metadata": {},
   "source": [
    "### 8.4 Выводы\n",
    "\n",
    "**Анализ метрик качества**\n",
    "\n",
    "Оптимизация модели с применением `GridSearchCV` и настройкой параметров `SGDClassifier` совместно с TF-IDF-векторизаторами (word + char) привела к умеренному улучшению метрик качества по сравнению с базовой моделью. Из предоставленных данных видно, что `F1-score` по классам изменился следующим образом:\n",
    "- Для класса `negative`: `F1-score` увеличился с 0.421 до 0.506 (рост на 0.085), `Recall` вырос с 0.301 до 0.451 (рост на 0.15).\n",
    "- Для класса `positive`: `F1-score` повысился с 0.620 до 0.671 (рост на 0.051), `Recall` увеличился с 0.544 до 0.622 (рост на 0.078).\n",
    "- Для класса `neutral`: `F1-score` остался относительно стабильным (≈0.78), с незначительным изменением, при этом `Precision` увеличился, а `Recall` слегка снизился.\n",
    "\n",
    "Общий взвешенный `F1-score` (weighted) улучшился более чем на 3%, что указывает на некоторое повышение качества модели. Однако этот прирост нельзя считать значительным, что может быть связано с хорошей оптимизацией базовой модели, что не позволяет существенно улучшить метрики обучения.\n",
    "\n",
    "**Анализ скорости обучения**\n",
    "\n",
    "Важным результатом оптимизации стало значительное увеличение скорости обучения модели. Время обучения возросло с 0.3 секунды (до оптимизации) до 42.7 секунд (после оптимизации), что связано с вычислительной сложностью процесса поиска оптимальных параметров через `GridSearchCV`. Этот рост времени обусловлен итеративным перебором комбинаций гиперпараметров, что типично для данного метода. Несмотря на увеличение времени, итоговое улучшение метрик оказалось незначительным, что подчеркивает необходимость пересмотра подхода к оптимизации для достижения более эффективного баланса между качеством и вычислительными затратами.\n",
    "\n",
    "**Оптимальные гиперпараметры**\n",
    "\n",
    "Оптимизация с использованием `GridSearchCV` определила следующие оптимальные гиперпараметры для модели:\n",
    "- Для `SGDClassifier`: \n",
    "  \n",
    "        clf__alpha                     :  0.0001\n",
    "\n",
    "        clf__class_weight              :  balanced\n",
    "\n",
    "        clf__loss                      :  log_loss\n",
    "\n",
    "        clf__penalty                   :  l2\n",
    "\n",
    "\n",
    "- Для TF-IDF-векторизаторов: оптимальные параметры - это комбинация `word` и `char` n-грамм, что улучшило обработку текстовых данных и учет контекста.\n",
    "\n",
    "Эти параметры были выбраны на основе максимального значения `F1-score` при кросс-валидации, однако их влияние на итоговое улучшение оказалось ограниченным, что может указывать на необходимость более детального поиска или использования альтернативных методов оптимизации (например, `RandomizedSearchCV` или Bayesian Optimization).\n",
    "\n",
    "Однако текущая реализация не полностью раскрывает потенциал оптимизации из-за ограниченного прироста метрик. Полученные визуализации так же подтверждают стабильность модели, но подчеркивают необходимость дальнейших исследований для достижения более выраженных улучшений. Для дальнейшего улучшения в дальнейшем будут рассмотрены другие варианты оптимизации моделей."
   ]
  }
 ],
 "metadata": {
  "kernelspec": {
   "display_name": "Python 3",
   "language": "python",
   "name": "python3"
  },
  "language_info": {
   "codemirror_mode": {
    "name": "ipython",
    "version": 3
   },
   "file_extension": ".py",
   "mimetype": "text/x-python",
   "name": "python",
   "nbconvert_exporter": "python",
   "pygments_lexer": "ipython3",
   "version": "3.13.3"
  }
 },
 "nbformat": 4,
 "nbformat_minor": 5
}
